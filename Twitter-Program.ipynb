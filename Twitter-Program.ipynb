{
 "cells": [
  {
   "cell_type": "code",
   "execution_count": 3,
   "metadata": {},
   "outputs": [
    {
     "name": "stdout",
     "output_type": "stream",
     "text": [
      "Collecting tweepy\n",
      "  Downloading https://files.pythonhosted.org/packages/36/1b/2bd38043d22ade352fc3d3902cf30ce0e2f4bf285be3b304a2782a767aec/tweepy-3.8.0-py2.py3-none-any.whl\n",
      "Requirement already satisfied: six>=1.10.0 in /opt/conda/lib/python3.7/site-packages (from tweepy) (1.12.0)\n",
      "Collecting requests-oauthlib>=0.7.0 (from tweepy)\n",
      "  Downloading https://files.pythonhosted.org/packages/a3/12/b92740d845ab62ea4edf04d2f4164d82532b5a0b03836d4d4e71c6f3d379/requests_oauthlib-1.3.0-py2.py3-none-any.whl\n",
      "Requirement already satisfied: PySocks>=1.5.7 in /opt/conda/lib/python3.7/site-packages (from tweepy) (1.6.8)\n",
      "Requirement already satisfied: requests>=2.11.1 in /opt/conda/lib/python3.7/site-packages (from tweepy) (2.22.0)\n",
      "Requirement already satisfied: oauthlib>=3.0.0 in /opt/conda/lib/python3.7/site-packages (from requests-oauthlib>=0.7.0->tweepy) (3.0.1)\n",
      "Requirement already satisfied: chardet<3.1.0,>=3.0.2 in /opt/conda/lib/python3.7/site-packages (from requests>=2.11.1->tweepy) (3.0.4)\n",
      "Requirement already satisfied: idna<2.9,>=2.5 in /opt/conda/lib/python3.7/site-packages (from requests>=2.11.1->tweepy) (2.8)\n",
      "Requirement already satisfied: certifi>=2017.4.17 in /opt/conda/lib/python3.7/site-packages (from requests>=2.11.1->tweepy) (2019.6.16)\n",
      "Requirement already satisfied: urllib3!=1.25.0,!=1.25.1,<1.26,>=1.21.1 in /opt/conda/lib/python3.7/site-packages (from requests>=2.11.1->tweepy) (1.24.2)\n",
      "Installing collected packages: requests-oauthlib, tweepy\n",
      "Successfully installed requests-oauthlib-1.3.0 tweepy-3.8.0\n",
      "Collecting textblob\n",
      "\u001b[?25l  Downloading https://files.pythonhosted.org/packages/60/f0/1d9bfcc8ee6b83472ec571406bd0dd51c0e6330ff1a51b2d29861d389e85/textblob-0.15.3-py2.py3-none-any.whl (636kB)\n",
      "\u001b[K     |████████████████████████████████| 645kB 5.1MB/s eta 0:00:01\n",
      "\u001b[?25hCollecting nltk>=3.1 (from textblob)\n",
      "\u001b[?25l  Downloading https://files.pythonhosted.org/packages/f6/1d/d925cfb4f324ede997f6d47bea4d9babba51b49e87a767c170b77005889d/nltk-3.4.5.zip (1.5MB)\n",
      "\u001b[K     |████████████████████████████████| 1.5MB 33.9MB/s eta 0:00:01\n",
      "\u001b[?25hRequirement already satisfied: six in /opt/conda/lib/python3.7/site-packages (from nltk>=3.1->textblob) (1.12.0)\n",
      "Building wheels for collected packages: nltk\n",
      "  Building wheel for nltk (setup.py) ... \u001b[?25ldone\n",
      "\u001b[?25h  Stored in directory: /home/jovyan/.cache/pip/wheels/96/86/f6/68ab24c23f207c0077381a5e3904b2815136b879538a24b483\n",
      "Successfully built nltk\n",
      "Installing collected packages: nltk, textblob\n",
      "Successfully installed nltk-3.4.5 textblob-0.15.3\n"
     ]
    }
   ],
   "source": [
    "!pip install tweepy\n",
    "!pip install textblob\n"
   ]
  },
  {
   "cell_type": "code",
   "execution_count": 7,
   "metadata": {},
   "outputs": [],
   "source": [
    "import tweepy as tw\n",
    "from textblob import TextBlob\n",
    "import matplotlib.pyplot as plt\n",
    "from IPython.display import display\n",
    "import plotly.express as px\n",
    "import pandas as pd\n",
    "from IPython.display import display\n",
    "import matplotlib.pyplot as plt\n",
    "import pandas as pd\n",
    "\n",
    "\n",
    "\n",
    "\n",
    "\n",
    "consumer_key = 'hxs9wQkidefoM1l7vtnAAEOyw'\n",
    "consumer_secret = 'dF6o2xly5MlMRFFEYwRnzJ75Hjz0YqtA7DcsENJyJJB0ZOpcGo'\n",
    "access_token = '2176453907-KgmXS3aAD2ev26noH6AP5beXfqYiZMkoCdllL23'\n",
    "access_token_secret = 'WXpIYVtfeQtXe23OCoj0n3nFu41uq9HD07ELUuBPVLnUB'\n",
    "\n",
    "auth = tw.OAuthHandler(consumer_key=consumer_key, consumer_secret=consumer_secret)\n",
    "auth.set_access_token(access_token, access_token_secret)\n",
    "api = tw.API(auth)"
   ]
  },
  {
   "cell_type": "code",
   "execution_count": 12,
   "metadata": {},
   "outputs": [
    {
     "name": "stdout",
     "output_type": "stream",
     "text": [
      "Please Enter Your Companies Name or Product: amazon\n",
      "Enter the amount of tweets you want to analyze: 99\n",
      "How People are recting on amazon by analyzing 99tweets.\n",
      "There is a Positive polarity\n"
     ]
    },
    {
     "data": {
      "image/png": "[encoded data removed]",
      "text/plain": [
       "<Figure size 432x288 with 1 Axes>"
      ]
     },
     "metadata": {},
     "output_type": "display_data"
    }
   ],
   "source": [
    "searchTerm = input(\"Please Enter Your Companies Name or Product: \")\n",
    "numberofsearchterms = int(input(\"Enter the amount of tweets you want to analyze: \"))\n",
    "\n",
    "tweets = tw.Cursor(api.search, q= searchTerm, lang=\"English\").items(numberofsearchterms)\n",
    "\n",
    "\n",
    "#store the polarity, to find the average of positive, negative, and netural tweets \n",
    "positive = 0\n",
    "negative = 0 \n",
    "neutral = 0\n",
    "# the average result of tweets searched\n",
    "polarity= 0\n",
    "\n",
    "def percentage(part,whole):\n",
    "    return 100* float(part)/float(whole)\n",
    "for tweet in tweets:\n",
    "    analysis= TextBlob(tweet.text)\n",
    "    polarity += analysis.sentiment.polarity\n",
    "    \n",
    "    if (analysis.sentiment.polarity == 0):\n",
    "        neutral += 1\n",
    "    elif (analysis.sentiment.polarity < 0.00):\n",
    "        negative+= 1\n",
    "    elif (analysis.sentiment.polarity > 0.00):\n",
    "        positive += 1\n",
    "\n",
    "\n",
    "positive = percentage(postive, numberofsearchterms)\n",
    "negative= percentage(negative, numberofsearchterms)\n",
    "neutral = percentage(neutral, numberofsearchterms)\n",
    "\n",
    "positive = format(positive, '.2f')\n",
    "neutral = format(neutral, '.2f')\n",
    "negative = format(negative, '.2f')\n",
    "\n",
    "print(\"How People are recting on \"+ searchTerm + \" by analyzing \" + str(numberofsearchterms) + \"tweets.\")\n",
    "\n",
    "if (polarity == 0):\n",
    "    print(\"There is a Neutral polarity\")\n",
    "elif (polarity > 0.00):\n",
    "    print(\"There is a Positive polarity\")\n",
    "elif (polarity < 0.00):\n",
    "    print(\"There is a Negative Polarity Negative\")\n",
    "\n",
    "\n",
    "labels = ['Positive ['+str(positive)+ '%]', 'Neutral['+str(neutral)+ '%]', 'Negative ['+str(negative) +' %]']\n",
    "sizes = [positive, neutral, negative]\n",
    "colors = ['green','gold','red']\n",
    "patches, texts = plt.pie(sizes, colors= colors, startangle= 90)\n",
    "plt.legend(patches, labels, loc=\"best\")\n",
    "plt.title(\"This is how people are feel about \" + searchTerm + \" according to an analysis of \" + str(numberofsearchterms) + \" Tweets.\")\n",
    "plt.axis('equal')\n",
    "plt.tight_layout()\n",
    "plt.show()"
   ]
  },
  {
   "cell_type": "code",
   "execution_count": null,
   "metadata": {},
   "outputs": [],
   "source": []
  },
  {
   "cell_type": "code",
   "execution_count": null,
   "metadata": {},
   "outputs": [],
   "source": []
  },
  {
   "cell_type": "code",
   "execution_count": null,
   "metadata": {},
   "outputs": [],
   "source": []
  }
 ],
 "metadata": {
  "kernelspec": {
   "display_name": "Python 3",
   "language": "python",
   "name": "python3"
  },
  "language_info": {
   "codemirror_mode": {
    "name": "ipython",
    "version": 3
   },
   "file_extension": ".py",
   "mimetype": "text/x-python",
   "name": "python",
   "nbconvert_exporter": "python",
   "pygments_lexer": "ipython3",
   "version": "3.7.3"
  }
 },
 "nbformat": 4,
 "nbformat_minor": 2
}
