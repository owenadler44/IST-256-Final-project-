{
 "cells": [
  {
   "cell_type": "code",
   "execution_count": 16,
   "metadata": {},
   "outputs": [
    {
     "name": "stdout",
     "output_type": "stream",
     "text": [
      "Requirement already satisfied: tweepy in /opt/conda/lib/python3.7/site-packages (3.8.0)\n",
      "Requirement already satisfied: requests>=2.11.1 in /opt/conda/lib/python3.7/site-packages (from tweepy) (2.22.0)\n",
      "Requirement already satisfied: requests-oauthlib>=0.7.0 in /opt/conda/lib/python3.7/site-packages (from tweepy) (1.3.0)\n",
      "Requirement already satisfied: PySocks>=1.5.7 in /opt/conda/lib/python3.7/site-packages (from tweepy) (1.6.8)\n",
      "Requirement already satisfied: six>=1.10.0 in /opt/conda/lib/python3.7/site-packages (from tweepy) (1.12.0)\n",
      "Requirement already satisfied: certifi>=2017.4.17 in /opt/conda/lib/python3.7/site-packages (from requests>=2.11.1->tweepy) (2019.6.16)\n",
      "Requirement already satisfied: chardet<3.1.0,>=3.0.2 in /opt/conda/lib/python3.7/site-packages (from requests>=2.11.1->tweepy) (3.0.4)\n",
      "Requirement already satisfied: urllib3!=1.25.0,!=1.25.1,<1.26,>=1.21.1 in /opt/conda/lib/python3.7/site-packages (from requests>=2.11.1->tweepy) (1.24.2)\n",
      "Requirement already satisfied: idna<2.9,>=2.5 in /opt/conda/lib/python3.7/site-packages (from requests>=2.11.1->tweepy) (2.8)\n",
      "Requirement already satisfied: oauthlib>=3.0.0 in /opt/conda/lib/python3.7/site-packages (from requests-oauthlib>=0.7.0->tweepy) (3.0.1)\n",
      "Requirement already satisfied: textblob in /opt/conda/lib/python3.7/site-packages (0.15.3)\n",
      "Requirement already satisfied: nltk>=3.1 in /opt/conda/lib/python3.7/site-packages (from textblob) (3.4.5)\n",
      "Requirement already satisfied: six in /opt/conda/lib/python3.7/site-packages (from nltk>=3.1->textblob) (1.12.0)\n"
     ]
    }
   ],
   "source": [
    "!pip install tweepy\n",
    "!pip install textblob\n"
   ]
  },
  {
   "cell_type": "code",
   "execution_count": 58,
   "metadata": {},
   "outputs": [],
   "source": [
    "import sys, tweepy, csv, re\n",
    "from textblob import TextBlob\n",
    "import matplotlib.pyplot as plt\n",
    "\n",
    "consumer_key = 'hxs9wQkidefoM1l7vtnAAEOyw'\n",
    "consumer_secret = 'dF6o2xly5MlMRFFEYwRnzJ75Hjz0YqtA7DcsENJyJJB0ZOpcGo'\n",
    "access_token = '2176453907-KgmXS3aAD2ev26noH6AP5beXfqYiZMkoCdllL23'\n",
    "access_token_secret = 'WXpIYVtfeQtXe23OCoj0n3nFu41uq9HD07ELUuBPVLnUB'\n",
    "\n",
    "auth = tweepy.OAuthHandler(consumer_key=consumer_key, consumer_secret=consumer_secret)\n",
    "auth.set_access_token(access_token, access_token_secret)\n",
    "api = tweepy.API(auth)"
   ]
  },
  {
   "cell_type": "code",
   "execution_count": null,
   "metadata": {},
   "outputs": [],
   "source": [
    "\n",
    "searchTerm = input(\"Please Enter Your Companies Name or Product: \")\n",
    "numberofsearchterms = int(input(\"Enter the amount of tweets you want to analyze: \"))\n",
    "\n",
    "tweets = tweepy.Cursor(api.search, q= searchTerm, lang= \"English\").items(numberofsearchterms)\n",
    "\n",
    "csvFile = open('result.csv', 'a')\n",
    "csvWriter = csv.writer(csvFile)\n",
    "\n",
    "#store the polarity, to find the average of positive, negative, and netural tweets \n",
    "postive = 0\n",
    "negative = 0 \n",
    "neutral = 0\n",
    "# the average result of tweets searched\n",
    "polarity= 0\n",
    "\n",
    "def percentage(part,whole):\n",
    "    return 100 * float(part)/float(whole)\n",
    "\n",
    "for tweet in tweets:\n",
    "    self.tweetText.append(self.cleanTweet(tweet.text).encode('utf-8'))\n",
    "    analysis= TextBlob(tweet.text)\n",
    "    polarity += analysis.sentiment.polarity\n",
    "    \n",
    "    if (analysis.sentiment.polarity == 0):\n",
    "        neutral += 1\n",
    "    elif (analysis.sentiment.polarity > 0.00):\n",
    "        positive += 1\n",
    "    elif (analysis.sentiment.polarity < 0.00):\n",
    "        negative += 1\n",
    "csvWriter.writerow(tweets)\n",
    "csvFile.close()\n",
    "\n",
    "positive = percentage(postive, numberofsearchterms)\n",
    "negative= percentage(negative, numberofsearchterms)\n",
    "neutral = percentage(neutral, numberofsearchterms)\n",
    "polarity = percentage(polarity, numberofsearchterms)\n",
    "\n",
    "polarity = polarity / numberofsearchterms\n",
    "\n",
    "positive = format(positive, '.2f')\n",
    "negative = format(negative, '.2f')\n",
    "neutral = format(neutral, '.2f')\n",
    "\n",
    "if (polarity == 0):\n",
    "    print(\"There is a Neutral polarity\")\n",
    "elif (polarity > 0.00):\n",
    "    print(\"There is a Positive polarity\")\n",
    "elif (polarity < 0.00):\n",
    "    print(\"There is a Negative Polarity Negative\")\n",
    "\n",
    "\n",
    "labels = ['Postive ['+str(postive)+ '%]', 'Neutral['+str(neutral)+ '%]', 'Negative ['+str(negative) +' %]']\n",
    "sizes = [positive, neutral, negative]\n",
    "colors = ['black','red', 'gold']\n",
    "patches, texts = plt.pie(sizes, colors= colors, startangle= 90)\n",
    "plt.legend(patches, labels, loc=\"best\")\n",
    "plt.title(\"This is how people are feel about \" + searchTerm + \" according to an analysis of \" + str(numberofsearchterms) + \" Tweets.\")\n",
    "plt.tight_layout()\n",
    "plt.show()"
   ]
  },
  {
   "cell_type": "code",
   "execution_count": null,
   "metadata": {},
   "outputs": [],
   "source": []
  },
  {
   "cell_type": "code",
   "execution_count": null,
   "metadata": {},
   "outputs": [],
   "source": []
  }
 ],
 "metadata": {
  "kernelspec": {
   "display_name": "Python 3",
   "language": "python",
   "name": "python3"
  },
  "language_info": {
   "codemirror_mode": {
    "name": "ipython",
    "version": 3
   },
   "file_extension": ".py",
   "mimetype": "text/x-python",
   "name": "python",
   "nbconvert_exporter": "python",
   "pygments_lexer": "ipython3",
   "version": "3.7.3"
  }
 },
 "nbformat": 4,
 "nbformat_minor": 2
}
